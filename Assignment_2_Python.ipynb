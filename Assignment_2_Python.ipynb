{
 "cells": [
  {
   "cell_type": "raw",
   "id": "278617fd",
   "metadata": {},
   "source": [
    "Q1. 1.What are the two values of the Boolean data type? How do you write them?\n",
    "\n",
    "Ans -  the two values of the Boolean data type are True and False. They are written exactly as shown, with the first letter capitalized."
   ]
  },
  {
   "cell_type": "code",
   "execution_count": 2,
   "id": "352c42c3",
   "metadata": {},
   "outputs": [
    {
     "name": "stdout",
     "output_type": "stream",
     "text": [
      "True\n",
      "False\n"
     ]
    }
   ],
   "source": [
    "raining = True\n",
    "sunshine = False\n",
    "print(raining)    \n",
    "print(sunshine)"
   ]
  },
  {
   "cell_type": "code",
   "execution_count": 3,
   "id": "4977da06",
   "metadata": {},
   "outputs": [
    {
     "name": "stdout",
     "output_type": "stream",
     "text": [
      "take umbrella\n"
     ]
    }
   ],
   "source": [
    "if raining:\n",
    "    print(\"take umbrella\")\n",
    "else:\n",
    "    print(\"cloudy\")"
   ]
  },
  {
   "cell_type": "raw",
   "id": "56e6db43",
   "metadata": {},
   "source": [
    "Q2. What are the three different types of Boolean operators?\n",
    "\n",
    "Ans - three different types of Boolean operators: \"and\", \"or\", and \"not\". These operators allow you to combine or modify Boolean values in logical expressions."
   ]
  },
  {
   "cell_type": "code",
   "execution_count": 4,
   "id": "cc5aa6ee",
   "metadata": {},
   "outputs": [
    {
     "name": "stdout",
     "output_type": "stream",
     "text": [
      "False\n"
     ]
    }
   ],
   "source": [
    "a = True\n",
    "b = False\n",
    "\n",
    "print(a and b)"
   ]
  },
  {
   "cell_type": "code",
   "execution_count": 5,
   "id": "3be95783",
   "metadata": {},
   "outputs": [
    {
     "name": "stdout",
     "output_type": "stream",
     "text": [
      "True\n"
     ]
    }
   ],
   "source": [
    "x = True\n",
    "y = False\n",
    "\n",
    "print(x or y)"
   ]
  },
  {
   "cell_type": "code",
   "execution_count": 6,
   "id": "bea81a8b",
   "metadata": {},
   "outputs": [
    {
     "name": "stdout",
     "output_type": "stream",
     "text": [
      "False\n"
     ]
    }
   ],
   "source": [
    "p = True\n",
    "\n",
    "print(not p)"
   ]
  },
  {
   "cell_type": "raw",
   "id": "8cfe4d4f",
   "metadata": {},
   "source": [
    "Q3. Make a list of each Boolean operator&#39;s truth tables (i.e. every possible combination of Boolean\n",
    "values for the operator and what it evaluate ).\n",
    "\n",
    "Ans - AND -\n",
    "\n",
    "OPERAND1                 OPERAND2                     Result\n",
    "\n",
    "True                      True                        True\n",
    "True                      False                       False\n",
    "False                     False                       False\n",
    "False                     True                        False\n",
    "\n",
    "\n",
    "OR TRUTH TABLE -\n",
    "\n",
    "OPERAND1                 OPERAND2                     Result\n",
    "\n",
    "True                      True                        True\n",
    "True                      False                       True\n",
    "False                     False                       False\n",
    "False                     True                        True\n",
    "\n",
    "\n",
    "NOT OPERATOR TRUTH TABLE -\n",
    "\n",
    "OPERAND                  Result\n",
    "\n",
    "True                     False\n",
    "False                    True\n",
    "\n"
   ]
  },
  {
   "cell_type": "raw",
   "id": "ba4e0c77",
   "metadata": {},
   "source": [
    "Q4. What are the values of the following expressions?\n",
    "\n",
    "ANS----------\n",
    "\n",
    "1. (5 > 4) and (3 == 5)\n",
    "\n",
    "(5 > 4) evaluates to True\n",
    "(3 == 5) evaluates to False\n",
    "True and False evaluates to False\n",
    "\n",
    "2. not (5 > 4)\n",
    "\n",
    "(5 > 4) evaluates to True\n",
    "not True evaluates to False\n",
    "\n",
    "3. (5 > 4) or (3 == 5)\n",
    "\n",
    "(5 > 4) evaluates to True\n",
    "(3 == 5) evaluates to False\n",
    "True or False evaluates to True\n",
    "\n",
    "4. not ((5 > 4) or (3 == 5))\n",
    "\n",
    "(5 > 4) evaluates to True\n",
    "(3 == 5) evaluates to False\n",
    "(True or False) evaluates to True\n",
    "not True evaluates to False\n",
    "(True and True) and (True == False)\n",
    "\n",
    "5. True and True evaluates to True\n",
    "   True == False evaluates to False\n",
    "   True and False evaluates to False\n",
    "   (not False) or (not True)\n",
    "   \n",
    "   \n",
    "6. not False evaluates to True\n",
    "   not True evaluates to False\n",
    "   True or False evaluates to True"
   ]
  },
  {
   "cell_type": "code",
   "execution_count": 8,
   "id": "8805aa8c",
   "metadata": {},
   "outputs": [
    {
     "name": "stdout",
     "output_type": "stream",
     "text": [
      "False\n"
     ]
    }
   ],
   "source": [
    "result = (5 > 4) and (3 == 5)\n",
    "print(result) "
   ]
  },
  {
   "cell_type": "code",
   "execution_count": 10,
   "id": "8ebd7f4c",
   "metadata": {},
   "outputs": [
    {
     "name": "stdout",
     "output_type": "stream",
     "text": [
      "False\n"
     ]
    }
   ],
   "source": [
    "result1 = not (5 > 4)\n",
    "print(result1) "
   ]
  },
  {
   "cell_type": "code",
   "execution_count": 11,
   "id": "2f769b58",
   "metadata": {},
   "outputs": [
    {
     "name": "stdout",
     "output_type": "stream",
     "text": [
      "True\n"
     ]
    }
   ],
   "source": [
    "result1 = (5 > 4) or (3 == 5)\n",
    "print(result1) "
   ]
  },
  {
   "cell_type": "raw",
   "id": "842f10aa",
   "metadata": {},
   "source": [
    "Q5. What are the six comparison operators?\n",
    "\n",
    "ANS ---- \n",
    "1. Greater than: >\n",
    "2. Less than: <\n",
    "3. Equal to: ==\n",
    "4. Not equal to: !=\n",
    "5. Greater than or equal to: >=\n",
    "6. Less than or equal to: <="
   ]
  },
  {
   "cell_type": "raw",
   "id": "8baf5b4b",
   "metadata": {},
   "source": [
    "Q6.How do you tell the difference between the equal to and assignment operators?Describe a\n",
    "condition and when you would use one.\n",
    "\n",
    "Ans - In Python, the equal to operator == is used for comparison, whereas the assignment operator = is used to assign a value to a variable."
   ]
  },
  {
   "cell_type": "code",
   "execution_count": 12,
   "id": "2af37a0d",
   "metadata": {},
   "outputs": [
    {
     "name": "stdout",
     "output_type": "stream",
     "text": [
      "False\n"
     ]
    }
   ],
   "source": [
    "x = 4\n",
    "y = 6\n",
    "\n",
    "result = (x == y)  # Comparison using equal to operator\n",
    "print(result)      # Output: False"
   ]
  },
  {
   "cell_type": "code",
   "execution_count": 13,
   "id": "03e65d1b",
   "metadata": {},
   "outputs": [
    {
     "name": "stdout",
     "output_type": "stream",
     "text": [
      "5\n"
     ]
    }
   ],
   "source": [
    "x = 5  # Assignment using the assignment operator\n",
    "print(x)"
   ]
  },
  {
   "cell_type": "raw",
   "id": "bccdaebe",
   "metadata": {},
   "source": [
    "Q7. Identify the three blocks in this code:\n",
    "spam = 0  # Block 1\n",
    "\n",
    "if spam == 10:  # Block 2\n",
    "    print('eggs')\n",
    "\n",
    "if spam > 5:  # Block 3\n",
    "    print('bacon')\n",
    "else:\n",
    "    print('ham')\n",
    "\n",
    "print('spam')\n",
    "print('spam')\n",
    "Blocks in the code:\n",
    "\n",
    "Block 1: Contains the assignment statement spam = 0.\n",
    "\n",
    "Block 2: Associated with the if statement if spam == 10: and includes the indented line print('eggs'). However, since the condition spam == 10 is not satisfied (spam is 0), the code inside this block will not be executed.\n",
    "\n",
    "Block 3: Associated with the if statement if spam > 5: and includes the indented line print('bacon'). Since the condition spam > 5 is not satisfied (spam is 0), the code inside the else block will be executed, resulting in the output 'ham'.\n",
    "The lines print('spam') and print('spam') are not indented and are not part of any specific block. They will be executed regardless of the conditions."
   ]
  },
  {
   "cell_type": "code",
   "execution_count": 14,
   "id": "cf65c566",
   "metadata": {},
   "outputs": [
    {
     "name": "stdout",
     "output_type": "stream",
     "text": [
      "ham\n",
      "spam\n",
      "spam\n"
     ]
    }
   ],
   "source": [
    "spam = 0  # Block 1\n",
    "\n",
    "if spam == 10:# Block 2\n",
    "    print('eggs')\n",
    "\n",
    "if spam > 5:  # Block 3\n",
    "    print('bacon')\n",
    "else:\n",
    "    print('ham')\n",
    "\n",
    "print('spam')\n",
    "print('spam')"
   ]
  },
  {
   "cell_type": "raw",
   "id": "2bf0b9f1",
   "metadata": {},
   "source": [
    "Q8. Write code that prints Hello if 1 is stored in spam, prints Howdy if 2 is stored in spam, and prints\n",
    "Greetings! if anything else is stored in spam."
   ]
  },
  {
   "cell_type": "code",
   "execution_count": 15,
   "id": "c4299167",
   "metadata": {},
   "outputs": [
    {
     "name": "stdout",
     "output_type": "stream",
     "text": [
      "Hello\n"
     ]
    }
   ],
   "source": [
    "spam = 1\n",
    "\n",
    "if spam == 1:\n",
    "    print(\"Hello\")\n",
    "elif spam == 2:\n",
    "    print(\"Howdy\")\n",
    "else:\n",
    "    print(\"Greetings!\")"
   ]
  },
  {
   "cell_type": "raw",
   "id": "f27e376e",
   "metadata": {},
   "source": [
    "Q9. If your programme is stuck in an endless loop, what keys you’ll press?\n",
    "\n",
    "Ans - Ctrl + C \n",
    "it will terminate the program and break out of the endless loop"
   ]
  },
  {
   "cell_type": "raw",
   "id": "5aac5fdf",
   "metadata": {},
   "source": [
    "Q10. How can you tell the difference between break and continue?\n",
    "\n",
    "Ans - break statement -for or while loop, the break statement immediately terminates the loop and exits its execution\n",
    "\n",
    "     continue -continue statement skips the rest of the code inside the loop for the current iteration and moves on to the next iteration."
   ]
  },
  {
   "cell_type": "code",
   "execution_count": 18,
   "id": "e7518eb8",
   "metadata": {},
   "outputs": [
    {
     "name": "stdout",
     "output_type": "stream",
     "text": [
      "1\n",
      "2\n",
      "3\n"
     ]
    }
   ],
   "source": [
    "for i in range(1, 10):\n",
    "    if i == 4:\n",
    "        break\n",
    "    print(i)"
   ]
  },
  {
   "cell_type": "code",
   "execution_count": 22,
   "id": "2fb94479",
   "metadata": {},
   "outputs": [
    {
     "name": "stdout",
     "output_type": "stream",
     "text": [
      "1\n",
      "2\n",
      "4\n",
      "5\n",
      "6\n",
      "7\n",
      "8\n",
      "9\n"
     ]
    }
   ],
   "source": [
    "for i in range(1, 10):\n",
    "    if i == 3:\n",
    "        continue\n",
    "    print(i)"
   ]
  },
  {
   "cell_type": "raw",
   "id": "46f777c9",
   "metadata": {},
   "source": [
    "Q11. In a for loop, what is the difference between range(10), range(0, 10), and range(0, 10, 1)?\n",
    "\n",
    "Ans - range(10): This expression generates a sequence of numbers starting from 0 and ending at 10 with a step size of 1.but not include 10\n",
    "\n",
    "range(0, 10):The parameter 0 represents the start value, indicating that the sequence should start from 0.The parameter 10 represents the stop value, indicating that the sequence should go up to, but not include, the value 10.\n",
    "\n",
    "range(0, 10, 1):The parameter 0 represents the start value, indicating that the sequence should start from 0 . The parameter 10 represents the stop value, indicating that the sequence should go up to, but not include, the value 10.The parameter 1 represents the step size, indicating that the sequence should increment by 1."
   ]
  },
  {
   "cell_type": "code",
   "execution_count": 23,
   "id": "200a1abc",
   "metadata": {},
   "outputs": [
    {
     "name": "stdout",
     "output_type": "stream",
     "text": [
      "0\n",
      "1\n",
      "2\n",
      "3\n",
      "4\n",
      "5\n",
      "6\n",
      "7\n",
      "8\n",
      "9\n"
     ]
    }
   ],
   "source": [
    "for i in range(10):\n",
    "    print(i)"
   ]
  },
  {
   "cell_type": "code",
   "execution_count": 24,
   "id": "5b0de1bc",
   "metadata": {},
   "outputs": [
    {
     "name": "stdout",
     "output_type": "stream",
     "text": [
      "0\n",
      "1\n",
      "2\n",
      "3\n",
      "4\n",
      "5\n",
      "6\n",
      "7\n",
      "8\n",
      "9\n"
     ]
    }
   ],
   "source": [
    "for i in range(0, 10):\n",
    "    print(i)"
   ]
  },
  {
   "cell_type": "code",
   "execution_count": 26,
   "id": "49231218",
   "metadata": {},
   "outputs": [
    {
     "name": "stdout",
     "output_type": "stream",
     "text": [
      "0\n",
      "2\n",
      "4\n",
      "6\n",
      "8\n"
     ]
    }
   ],
   "source": [
    "for i in range(0, 10, 2):\n",
    "    print(i)"
   ]
  },
  {
   "cell_type": "raw",
   "id": "2f7551f0",
   "metadata": {},
   "source": [
    "Q12. Write a short program that prints the numbers 1 to 10 using a for loop. Then write an equivalent\n",
    "program that prints the numbers 1 to 10 using a while loop."
   ]
  },
  {
   "cell_type": "code",
   "execution_count": 27,
   "id": "6dcf9929",
   "metadata": {},
   "outputs": [
    {
     "name": "stdout",
     "output_type": "stream",
     "text": [
      "1\n",
      "2\n",
      "3\n",
      "4\n",
      "5\n",
      "6\n",
      "7\n",
      "8\n",
      "9\n",
      "10\n"
     ]
    }
   ],
   "source": [
    "for i in range(1, 11):\n",
    "    print(i)"
   ]
  },
  {
   "cell_type": "raw",
   "id": "f8cbab2d",
   "metadata": {},
   "source": [
    "Q13. If you had a function named bacon() inside a module named spam, how would you call it after\n",
    "importing spam?"
   ]
  },
  {
   "cell_type": "code",
   "execution_count": null,
   "id": "d493bdbc",
   "metadata": {},
   "outputs": [],
   "source": [
    "# pip install spam\n",
    "import spam\n",
    "\n",
    "spam.bacon()"
   ]
  },
  {
   "cell_type": "code",
   "execution_count": null,
   "id": "bf6c1498",
   "metadata": {},
   "outputs": [],
   "source": []
  }
 ],
 "metadata": {
  "kernelspec": {
   "display_name": "Python 3 (ipykernel)",
   "language": "python",
   "name": "python3"
  },
  "language_info": {
   "codemirror_mode": {
    "name": "ipython",
    "version": 3
   },
   "file_extension": ".py",
   "mimetype": "text/x-python",
   "name": "python",
   "nbconvert_exporter": "python",
   "pygments_lexer": "ipython3",
   "version": "3.10.9"
  }
 },
 "nbformat": 4,
 "nbformat_minor": 5
}
